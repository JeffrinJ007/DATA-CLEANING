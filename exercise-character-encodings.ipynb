{
 "cells": [
  {
   "cell_type": "markdown",
   "id": "d3a0d0d6",
   "metadata": {
    "papermill": {
     "duration": 0.006745,
     "end_time": "2023-06-30T04:15:59.904073",
     "exception": false,
     "start_time": "2023-06-30T04:15:59.897328",
     "status": "completed"
    },
    "tags": []
   },
   "source": [
    "**This notebook is an exercise in the [Data Cleaning](https://www.kaggle.com/learn/data-cleaning) course.  You can reference the tutorial at [this link](https://www.kaggle.com/alexisbcook/character-encodings).**\n",
    "\n",
    "---\n"
   ]
  },
  {
   "cell_type": "markdown",
   "id": "44fcb11f",
   "metadata": {
    "papermill": {
     "duration": 0.005925,
     "end_time": "2023-06-30T04:15:59.916301",
     "exception": false,
     "start_time": "2023-06-30T04:15:59.910376",
     "status": "completed"
    },
    "tags": []
   },
   "source": [
    "In this exercise, you'll apply what you learned in the **Character encodings** tutorial.\n",
    "\n",
    "# Setup\n",
    "\n",
    "The questions below will give you feedback on your work. Run the following cell to set up the feedback system."
   ]
  },
  {
   "cell_type": "code",
   "execution_count": 1,
   "id": "5da2e6ce",
   "metadata": {
    "execution": {
     "iopub.execute_input": "2023-06-30T04:15:59.931007Z",
     "iopub.status.busy": "2023-06-30T04:15:59.929878Z",
     "iopub.status.idle": "2023-06-30T04:16:00.030263Z",
     "shell.execute_reply": "2023-06-30T04:16:00.028953Z"
    },
    "papermill": {
     "duration": 0.111694,
     "end_time": "2023-06-30T04:16:00.034081",
     "exception": false,
     "start_time": "2023-06-30T04:15:59.922387",
     "status": "completed"
    },
    "tags": []
   },
   "outputs": [
    {
     "name": "stdout",
     "output_type": "stream",
     "text": [
      "Setup Complete\n"
     ]
    }
   ],
   "source": [
    "from learntools.core import binder\n",
    "binder.bind(globals())\n",
    "from learntools.data_cleaning.ex4 import *\n",
    "print(\"Setup Complete\")"
   ]
  },
  {
   "cell_type": "markdown",
   "id": "3d91bba5",
   "metadata": {
    "papermill": {
     "duration": 0.006751,
     "end_time": "2023-06-30T04:16:00.047301",
     "exception": false,
     "start_time": "2023-06-30T04:16:00.040550",
     "status": "completed"
    },
    "tags": []
   },
   "source": [
    "# Get our environment set up\n",
    "\n",
    "The first thing we'll need to do is load in the libraries we'll be using."
   ]
  },
  {
   "cell_type": "code",
   "execution_count": 2,
   "id": "57b56956",
   "metadata": {
    "execution": {
     "iopub.execute_input": "2023-06-30T04:16:00.061603Z",
     "iopub.status.busy": "2023-06-30T04:16:00.061220Z",
     "iopub.status.idle": "2023-06-30T04:16:00.066885Z",
     "shell.execute_reply": "2023-06-30T04:16:00.065616Z"
    },
    "papermill": {
     "duration": 0.015923,
     "end_time": "2023-06-30T04:16:00.069491",
     "exception": false,
     "start_time": "2023-06-30T04:16:00.053568",
     "status": "completed"
    },
    "tags": []
   },
   "outputs": [],
   "source": [
    "# modules we'll use\n",
    "import pandas as pd\n",
    "import numpy as np\n",
    "\n",
    "# helpful character encoding module\n",
    "import charset_normalizer\n",
    "\n",
    "# set seed for reproducibility\n",
    "np.random.seed(0)"
   ]
  },
  {
   "cell_type": "markdown",
   "id": "35abe111",
   "metadata": {
    "papermill": {
     "duration": 0.008261,
     "end_time": "2023-06-30T04:16:00.084709",
     "exception": false,
     "start_time": "2023-06-30T04:16:00.076448",
     "status": "completed"
    },
    "tags": []
   },
   "source": [
    "# 1) What are encodings?\n",
    "\n",
    "You're working with a dataset composed of bytes.  Run the code cell below to print a sample entry."
   ]
  },
  {
   "cell_type": "code",
   "execution_count": 3,
   "id": "ceae3c27",
   "metadata": {
    "execution": {
     "iopub.execute_input": "2023-06-30T04:16:00.099556Z",
     "iopub.status.busy": "2023-06-30T04:16:00.099162Z",
     "iopub.status.idle": "2023-06-30T04:16:00.103837Z",
     "shell.execute_reply": "2023-06-30T04:16:00.103075Z"
    },
    "papermill": {
     "duration": 0.015767,
     "end_time": "2023-06-30T04:16:00.106895",
     "exception": false,
     "start_time": "2023-06-30T04:16:00.091128",
     "status": "completed"
    },
    "tags": []
   },
   "outputs": [
    {
     "name": "stdout",
     "output_type": "stream",
     "text": [
      "b'\\xa7A\\xa6n'\n",
      "data type: <class 'bytes'>\n"
     ]
    }
   ],
   "source": [
    "sample_entry = b'\\xa7A\\xa6n'\n",
    "print(sample_entry)\n",
    "print('data type:', type(sample_entry))"
   ]
  },
  {
   "cell_type": "markdown",
   "id": "f3f94c64",
   "metadata": {
    "papermill": {
     "duration": 0.007471,
     "end_time": "2023-06-30T04:16:00.121270",
     "exception": false,
     "start_time": "2023-06-30T04:16:00.113799",
     "status": "completed"
    },
    "tags": []
   },
   "source": [
    "You notice that it doesn't use the standard UTF-8 encoding. \n",
    "\n",
    "Use the next code cell to create a variable `new_entry` that changes the encoding from `\"big5-tw\"` to `\"utf-8\"`.  `new_entry` should have the bytes datatype."
   ]
  },
  {
   "cell_type": "code",
   "execution_count": 4,
   "id": "d4b62e49",
   "metadata": {
    "execution": {
     "iopub.execute_input": "2023-06-30T04:16:00.136275Z",
     "iopub.status.busy": "2023-06-30T04:16:00.135410Z",
     "iopub.status.idle": "2023-06-30T04:16:00.145376Z",
     "shell.execute_reply": "2023-06-30T04:16:00.144221Z"
    },
    "papermill": {
     "duration": 0.020588,
     "end_time": "2023-06-30T04:16:00.148215",
     "exception": false,
     "start_time": "2023-06-30T04:16:00.127627",
     "status": "completed"
    },
    "tags": []
   },
   "outputs": [
    {
     "data": {
      "application/javascript": [
       "parent.postMessage({\"jupyterEvent\": \"custom.exercise_interaction\", \"data\": {\"outcomeType\": 1, \"valueTowardsCompletion\": 0.3333333333333333, \"interactionType\": 1, \"questionType\": 1, \"questionId\": \"1_EncodingsIntro\", \"learnToolsVersion\": \"0.3.4\", \"failureMessage\": \"\", \"exceptionClass\": \"\", \"trace\": \"\"}}, \"*\")"
      ],
      "text/plain": [
       "<IPython.core.display.Javascript object>"
      ]
     },
     "metadata": {},
     "output_type": "display_data"
    },
    {
     "data": {
      "text/markdown": [
       "<span style=\"color:#33cc33\">Correct</span>"
      ],
      "text/plain": [
       "Correct"
      ]
     },
     "metadata": {},
     "output_type": "display_data"
    }
   ],
   "source": [
    "before = sample_entry.decode(\"big5-tw\")\n",
    "new_entry = before.encode()\n",
    "# Check your answer\n",
    "q1.check()"
   ]
  },
  {
   "cell_type": "code",
   "execution_count": 5,
   "id": "bd2e99d2",
   "metadata": {
    "execution": {
     "iopub.execute_input": "2023-06-30T04:16:00.163442Z",
     "iopub.status.busy": "2023-06-30T04:16:00.163040Z",
     "iopub.status.idle": "2023-06-30T04:16:00.167828Z",
     "shell.execute_reply": "2023-06-30T04:16:00.166535Z"
    },
    "papermill": {
     "duration": 0.015165,
     "end_time": "2023-06-30T04:16:00.170190",
     "exception": false,
     "start_time": "2023-06-30T04:16:00.155025",
     "status": "completed"
    },
    "tags": []
   },
   "outputs": [],
   "source": [
    "# Lines below will give you a hint or solution code\n",
    "#q1.hint()\n",
    "# q1.solution()"
   ]
  },
  {
   "cell_type": "markdown",
   "id": "a238f993",
   "metadata": {
    "papermill": {
     "duration": 0.00636,
     "end_time": "2023-06-30T04:16:00.183557",
     "exception": false,
     "start_time": "2023-06-30T04:16:00.177197",
     "status": "completed"
    },
    "tags": []
   },
   "source": [
    "# 2) Reading in files with encoding problems\n",
    "\n",
    "Use the code cell below to read in this file at path `\"../input/fatal-police-shootings-in-the-us/PoliceKillingsUS.csv\"`.  \n",
    "\n",
    "Figure out what the correct encoding should be and read in the file to a DataFrame `police_killings`."
   ]
  },
  {
   "cell_type": "code",
   "execution_count": 6,
   "id": "cafe1656",
   "metadata": {
    "execution": {
     "iopub.execute_input": "2023-06-30T04:16:00.198672Z",
     "iopub.status.busy": "2023-06-30T04:16:00.198286Z",
     "iopub.status.idle": "2023-06-30T04:16:00.228780Z",
     "shell.execute_reply": "2023-06-30T04:16:00.227644Z"
    },
    "papermill": {
     "duration": 0.041123,
     "end_time": "2023-06-30T04:16:00.231259",
     "exception": false,
     "start_time": "2023-06-30T04:16:00.190136",
     "status": "completed"
    },
    "tags": []
   },
   "outputs": [
    {
     "data": {
      "application/javascript": [
       "parent.postMessage({\"jupyterEvent\": \"custom.exercise_interaction\", \"data\": {\"outcomeType\": 1, \"valueTowardsCompletion\": 0.3333333333333333, \"interactionType\": 1, \"questionType\": 1, \"questionId\": \"2_ReadIn\", \"learnToolsVersion\": \"0.3.4\", \"failureMessage\": \"\", \"exceptionClass\": \"\", \"trace\": \"\"}}, \"*\")"
      ],
      "text/plain": [
       "<IPython.core.display.Javascript object>"
      ]
     },
     "metadata": {},
     "output_type": "display_data"
    },
    {
     "data": {
      "text/markdown": [
       "<span style=\"color:#33cc33\">Correct</span>"
      ],
      "text/plain": [
       "Correct"
      ]
     },
     "metadata": {},
     "output_type": "display_data"
    }
   ],
   "source": [
    "# TODO: Load in the DataFrame correctly.\n",
    "police_killings = pd.read_csv(\"../input/fatal-police-shootings-in-the-us/PoliceKillingsUS.csv\", encoding='Windows-1252')\n",
    "\n",
    "# Check your answer\n",
    "q2.check()"
   ]
  },
  {
   "cell_type": "markdown",
   "id": "79f51312",
   "metadata": {
    "papermill": {
     "duration": 0.006884,
     "end_time": "2023-06-30T04:16:00.245186",
     "exception": false,
     "start_time": "2023-06-30T04:16:00.238302",
     "status": "completed"
    },
    "tags": []
   },
   "source": [
    "Feel free to use any additional code cells for supplemental work.  To get credit for finishing this question, you'll need to run `q2.check()` and get a result of **Correct**."
   ]
  },
  {
   "cell_type": "code",
   "execution_count": 7,
   "id": "7c86c289",
   "metadata": {
    "execution": {
     "iopub.execute_input": "2023-06-30T04:16:00.261699Z",
     "iopub.status.busy": "2023-06-30T04:16:00.261061Z",
     "iopub.status.idle": "2023-06-30T04:16:00.267271Z",
     "shell.execute_reply": "2023-06-30T04:16:00.265735Z"
    },
    "papermill": {
     "duration": 0.017804,
     "end_time": "2023-06-30T04:16:00.270039",
     "exception": false,
     "start_time": "2023-06-30T04:16:00.252235",
     "status": "completed"
    },
    "tags": []
   },
   "outputs": [],
   "source": [
    "# (Optional) Use this code cell for any additional work."
   ]
  },
  {
   "cell_type": "code",
   "execution_count": 8,
   "id": "7621fb94",
   "metadata": {
    "execution": {
     "iopub.execute_input": "2023-06-30T04:16:00.286381Z",
     "iopub.status.busy": "2023-06-30T04:16:00.285629Z",
     "iopub.status.idle": "2023-06-30T04:16:00.290248Z",
     "shell.execute_reply": "2023-06-30T04:16:00.289381Z"
    },
    "papermill": {
     "duration": 0.015447,
     "end_time": "2023-06-30T04:16:00.292590",
     "exception": false,
     "start_time": "2023-06-30T04:16:00.277143",
     "status": "completed"
    },
    "tags": []
   },
   "outputs": [],
   "source": [
    "# Lines below will give you a hint or solution code\n",
    "#q2.hint()\n",
    "# q2.solution()"
   ]
  },
  {
   "cell_type": "markdown",
   "id": "136ab06e",
   "metadata": {
    "papermill": {
     "duration": 0.006787,
     "end_time": "2023-06-30T04:16:00.306386",
     "exception": false,
     "start_time": "2023-06-30T04:16:00.299599",
     "status": "completed"
    },
    "tags": []
   },
   "source": [
    "# 3) Saving your files with UTF-8 encoding\n",
    "\n",
    "Save a version of the police killings dataset to CSV with UTF-8 encoding.  Your answer will be marked correct after saving this file.  \n",
    "\n",
    "Note: When using the `to_csv()` method, supply only the name of the file (e.g., `\"my_file.csv\"`).  This saves the file at the filepath `\"/kaggle/working/my_file.csv\"`."
   ]
  },
  {
   "cell_type": "code",
   "execution_count": 9,
   "id": "eb1536d6",
   "metadata": {
    "execution": {
     "iopub.execute_input": "2023-06-30T04:16:00.322779Z",
     "iopub.status.busy": "2023-06-30T04:16:00.322154Z",
     "iopub.status.idle": "2023-06-30T04:16:00.381558Z",
     "shell.execute_reply": "2023-06-30T04:16:00.379984Z"
    },
    "papermill": {
     "duration": 0.070917,
     "end_time": "2023-06-30T04:16:00.384382",
     "exception": false,
     "start_time": "2023-06-30T04:16:00.313465",
     "status": "completed"
    },
    "tags": []
   },
   "outputs": [
    {
     "data": {
      "application/javascript": [
       "parent.postMessage({\"jupyterEvent\": \"custom.exercise_interaction\", \"data\": {\"outcomeType\": 1, \"valueTowardsCompletion\": 0.3333333333333333, \"interactionType\": 1, \"questionType\": 2, \"questionId\": \"3_SaveCSV\", \"learnToolsVersion\": \"0.3.4\", \"failureMessage\": \"\", \"exceptionClass\": \"\", \"trace\": \"\"}}, \"*\")"
      ],
      "text/plain": [
       "<IPython.core.display.Javascript object>"
      ]
     },
     "metadata": {},
     "output_type": "display_data"
    },
    {
     "data": {
      "text/markdown": [
       "<span style=\"color:#33cc33\">Correct</span>"
      ],
      "text/plain": [
       "Correct"
      ]
     },
     "metadata": {},
     "output_type": "display_data"
    }
   ],
   "source": [
    "# TODO: Save the police killings dataset to CSV\n",
    "police_killings.to_csv(\"my_file.csv\")\n",
    "\n",
    "# Check your answer\n",
    "q3.check()"
   ]
  },
  {
   "cell_type": "code",
   "execution_count": 10,
   "id": "c85f863d",
   "metadata": {
    "execution": {
     "iopub.execute_input": "2023-06-30T04:16:00.401603Z",
     "iopub.status.busy": "2023-06-30T04:16:00.401199Z",
     "iopub.status.idle": "2023-06-30T04:16:00.410354Z",
     "shell.execute_reply": "2023-06-30T04:16:00.409107Z"
    },
    "papermill": {
     "duration": 0.021198,
     "end_time": "2023-06-30T04:16:00.412987",
     "exception": false,
     "start_time": "2023-06-30T04:16:00.391789",
     "status": "completed"
    },
    "tags": []
   },
   "outputs": [
    {
     "data": {
      "application/javascript": [
       "parent.postMessage({\"jupyterEvent\": \"custom.exercise_interaction\", \"data\": {\"interactionType\": 3, \"questionType\": 2, \"questionId\": \"3_SaveCSV\", \"learnToolsVersion\": \"0.3.4\", \"valueTowardsCompletion\": 0.0, \"failureMessage\": \"\", \"exceptionClass\": \"\", \"trace\": \"\", \"outcomeType\": 4}}, \"*\")"
      ],
      "text/plain": [
       "<IPython.core.display.Javascript object>"
      ]
     },
     "metadata": {},
     "output_type": "display_data"
    },
    {
     "data": {
      "text/markdown": [
       "<span style=\"color:#33cc99\">Solution:</span> \n",
       "```python\n",
       "\n",
       "police_killings.to_csv(\"my_file.csv\")\n",
       "\n",
       "```"
      ],
      "text/plain": [
       "Solution: \n",
       "```python\n",
       "\n",
       "police_killings.to_csv(\"my_file.csv\")\n",
       "\n",
       "```"
      ]
     },
     "metadata": {},
     "output_type": "display_data"
    }
   ],
   "source": [
    "# Lines below will give you a hint or solution code\n",
    "#q3.hint()\n",
    "q3.solution()"
   ]
  },
  {
   "cell_type": "markdown",
   "id": "9549c38a",
   "metadata": {
    "papermill": {
     "duration": 0.007635,
     "end_time": "2023-06-30T04:16:00.429465",
     "exception": false,
     "start_time": "2023-06-30T04:16:00.421830",
     "status": "completed"
    },
    "tags": []
   },
   "source": [
    "# (Optional) More practice\n",
    "\n",
    "Check out [this dataset of files in different character encodings](https://www.kaggle.com/rtatman/character-encoding-examples). Can you read in all the files with their original encodings and them save them out as UTF-8 files?\n",
    "\n",
    "If you have a file that's in UTF-8 but has just a couple of weird-looking characters in it, you can try out the [ftfy module](https://ftfy.readthedocs.io/en/latest/#) and see if it helps. \n",
    "\n",
    "# Keep going\n",
    "\n",
    "In the final lesson, learn how to [**clean up inconsistent text entries**](https://www.kaggle.com/alexisbcook/inconsistent-data-entry) in your dataset."
   ]
  },
  {
   "cell_type": "markdown",
   "id": "ac5765a0",
   "metadata": {
    "papermill": {
     "duration": 0.00799,
     "end_time": "2023-06-30T04:16:00.445691",
     "exception": false,
     "start_time": "2023-06-30T04:16:00.437701",
     "status": "completed"
    },
    "tags": []
   },
   "source": [
    "---\n",
    "\n",
    "\n",
    "\n",
    "\n",
    "*Have questions or comments? Visit the [course discussion forum](https://www.kaggle.com/learn/data-cleaning/discussion) to chat with other learners.*"
   ]
  }
 ],
 "metadata": {
  "kernelspec": {
   "display_name": "Python 3",
   "language": "python",
   "name": "python3"
  },
  "language_info": {
   "codemirror_mode": {
    "name": "ipython",
    "version": 3
   },
   "file_extension": ".py",
   "mimetype": "text/x-python",
   "name": "python",
   "nbconvert_exporter": "python",
   "pygments_lexer": "ipython3",
   "version": "3.10.10"
  },
  "papermill": {
   "default_parameters": {},
   "duration": 14.986098,
   "end_time": "2023-06-30T04:16:01.377065",
   "environment_variables": {},
   "exception": null,
   "input_path": "__notebook__.ipynb",
   "output_path": "__notebook__.ipynb",
   "parameters": {},
   "start_time": "2023-06-30T04:15:46.390967",
   "version": "2.4.0"
  }
 },
 "nbformat": 4,
 "nbformat_minor": 5
}
