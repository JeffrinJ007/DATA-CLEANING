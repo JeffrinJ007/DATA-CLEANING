{
 "cells": [
  {
   "cell_type": "markdown",
   "id": "e6da956c",
   "metadata": {
    "papermill": {
     "duration": 0.004986,
     "end_time": "2023-06-30T04:16:37.611168",
     "exception": false,
     "start_time": "2023-06-30T04:16:37.606182",
     "status": "completed"
    },
    "tags": []
   },
   "source": [
    "**This notebook is an exercise in the [Data Cleaning](https://www.kaggle.com/learn/data-cleaning) course.  You can reference the tutorial at [this link](https://www.kaggle.com/alexisbcook/inconsistent-data-entry).**\n",
    "\n",
    "---\n"
   ]
  },
  {
   "cell_type": "markdown",
   "id": "bbd3323a",
   "metadata": {
    "papermill": {
     "duration": 0.003835,
     "end_time": "2023-06-30T04:16:37.619475",
     "exception": false,
     "start_time": "2023-06-30T04:16:37.615640",
     "status": "completed"
    },
    "tags": []
   },
   "source": [
    "In this exercise, you'll apply what you learned in the **Inconsistent data entry** tutorial.\n",
    "\n",
    "# Setup\n",
    "\n",
    "The questions below will give you feedback on your work. Run the following cell to set up the feedback system."
   ]
  },
  {
   "cell_type": "code",
   "execution_count": 1,
   "id": "0028d574",
   "metadata": {
    "execution": {
     "iopub.execute_input": "2023-06-30T04:16:37.629276Z",
     "iopub.status.busy": "2023-06-30T04:16:37.628891Z",
     "iopub.status.idle": "2023-06-30T04:16:37.832916Z",
     "shell.execute_reply": "2023-06-30T04:16:37.831405Z"
    },
    "papermill": {
     "duration": 0.211761,
     "end_time": "2023-06-30T04:16:37.835326",
     "exception": false,
     "start_time": "2023-06-30T04:16:37.623565",
     "status": "completed"
    },
    "tags": []
   },
   "outputs": [
    {
     "name": "stdout",
     "output_type": "stream",
     "text": [
      "Setup Complete\n"
     ]
    }
   ],
   "source": [
    "from learntools.core import binder\n",
    "binder.bind(globals())\n",
    "from learntools.data_cleaning.ex5 import *\n",
    "print(\"Setup Complete\")"
   ]
  },
  {
   "cell_type": "markdown",
   "id": "180ab537",
   "metadata": {
    "papermill": {
     "duration": 0.004265,
     "end_time": "2023-06-30T04:16:37.844633",
     "exception": false,
     "start_time": "2023-06-30T04:16:37.840368",
     "status": "completed"
    },
    "tags": []
   },
   "source": [
    "# Get our environment set up\n",
    "\n",
    "The first thing we'll need to do is load in the libraries and dataset we'll be using.  We use the same dataset from the tutorial."
   ]
  },
  {
   "cell_type": "code",
   "execution_count": 2,
   "id": "953ced1d",
   "metadata": {
    "execution": {
     "iopub.execute_input": "2023-06-30T04:16:37.855375Z",
     "iopub.status.busy": "2023-06-30T04:16:37.855015Z",
     "iopub.status.idle": "2023-06-30T04:16:37.868346Z",
     "shell.execute_reply": "2023-06-30T04:16:37.867663Z"
    },
    "papermill": {
     "duration": 0.021706,
     "end_time": "2023-06-30T04:16:37.870710",
     "exception": false,
     "start_time": "2023-06-30T04:16:37.849004",
     "status": "completed"
    },
    "tags": []
   },
   "outputs": [],
   "source": [
    "# modules we'll use\n",
    "import pandas as pd\n",
    "import numpy as np\n",
    "\n",
    "# helpful modules\n",
    "import fuzzywuzzy\n",
    "from fuzzywuzzy import process\n",
    "import charset_normalizer\n",
    "\n",
    "# read in all our data\n",
    "professors = pd.read_csv(\"../input/pakistan-intellectual-capital/pakistan_intellectual_capital.csv\")\n",
    "\n",
    "# set seed for reproducibility\n",
    "np.random.seed(0)"
   ]
  },
  {
   "cell_type": "markdown",
   "id": "48a041d9",
   "metadata": {
    "papermill": {
     "duration": 0.005958,
     "end_time": "2023-06-30T04:16:37.881341",
     "exception": false,
     "start_time": "2023-06-30T04:16:37.875383",
     "status": "completed"
    },
    "tags": []
   },
   "source": [
    "Next, we'll redo all of the work that we did in the tutorial."
   ]
  },
  {
   "cell_type": "code",
   "execution_count": 3,
   "id": "5c8d9eed",
   "metadata": {
    "execution": {
     "iopub.execute_input": "2023-06-30T04:16:37.892075Z",
     "iopub.status.busy": "2023-06-30T04:16:37.891232Z",
     "iopub.status.idle": "2023-06-30T04:16:37.902748Z",
     "shell.execute_reply": "2023-06-30T04:16:37.902100Z"
    },
    "papermill": {
     "duration": 0.018902,
     "end_time": "2023-06-30T04:16:37.904572",
     "exception": false,
     "start_time": "2023-06-30T04:16:37.885670",
     "status": "completed"
    },
    "tags": []
   },
   "outputs": [
    {
     "name": "stdout",
     "output_type": "stream",
     "text": [
      "All done!\n"
     ]
    }
   ],
   "source": [
    "# convert to lower case\n",
    "professors['Country'] = professors['Country'].str.lower()\n",
    "# remove trailing white spaces\n",
    "professors['Country'] = professors['Country'].str.strip()\n",
    "\n",
    "# get the top 10 closest matches to \"south korea\"\n",
    "countries = professors['Country'].unique()\n",
    "matches = fuzzywuzzy.process.extract(\"south korea\", countries, limit=10, scorer=fuzzywuzzy.fuzz.token_sort_ratio)\n",
    "\n",
    "def replace_matches_in_column(df, column, string_to_match, min_ratio = 47):\n",
    "    # get a list of unique strings\n",
    "    strings = df[column].unique()\n",
    "    \n",
    "    # get the top 10 closest matches to our input string\n",
    "    matches = fuzzywuzzy.process.extract(string_to_match, strings, \n",
    "                                         limit=10, scorer=fuzzywuzzy.fuzz.token_sort_ratio)\n",
    "\n",
    "    # only get matches with a ratio > 90\n",
    "    close_matches = [matches[0] for matches in matches if matches[1] >= min_ratio]\n",
    "\n",
    "    # get the rows of all the close matches in our dataframe\n",
    "    rows_with_matches = df[column].isin(close_matches)\n",
    "\n",
    "    # replace all rows with close matches with the input matches \n",
    "    df.loc[rows_with_matches, column] = string_to_match\n",
    "    \n",
    "    # let us know the function's done\n",
    "    print(\"All done!\")\n",
    "    \n",
    "replace_matches_in_column(df=professors, column='Country', string_to_match=\"south korea\")\n",
    "countries = professors['Country'].unique()"
   ]
  },
  {
   "cell_type": "markdown",
   "id": "e07db42b",
   "metadata": {
    "papermill": {
     "duration": 0.004287,
     "end_time": "2023-06-30T04:16:37.913383",
     "exception": false,
     "start_time": "2023-06-30T04:16:37.909096",
     "status": "completed"
    },
    "tags": []
   },
   "source": [
    "# 1) Examine another column\n",
    "\n",
    "Write code below to take a look at all the unique values in the \"Graduated from\" column."
   ]
  },
  {
   "cell_type": "code",
   "execution_count": 4,
   "id": "be6101c0",
   "metadata": {
    "execution": {
     "iopub.execute_input": "2023-06-30T04:16:37.924107Z",
     "iopub.status.busy": "2023-06-30T04:16:37.923497Z",
     "iopub.status.idle": "2023-06-30T04:16:37.929963Z",
     "shell.execute_reply": "2023-06-30T04:16:37.928228Z"
    },
    "papermill": {
     "duration": 0.015179,
     "end_time": "2023-06-30T04:16:37.932803",
     "exception": false,
     "start_time": "2023-06-30T04:16:37.917624",
     "status": "completed"
    },
    "tags": []
   },
   "outputs": [],
   "source": [
    "# TODO: Your code here\n",
    "countries = professors['Graduated from'].unique()\n",
    "# countries"
   ]
  },
  {
   "cell_type": "markdown",
   "id": "8b47d47d",
   "metadata": {
    "papermill": {
     "duration": 0.004732,
     "end_time": "2023-06-30T04:16:37.943251",
     "exception": false,
     "start_time": "2023-06-30T04:16:37.938519",
     "status": "completed"
    },
    "tags": []
   },
   "source": [
    "Do you notice any inconsistencies in the data?  Can any of the inconsistencies in the data be fixed by removing white spaces at the beginning and end of cells?\n",
    "\n",
    "Once you have answered these questions, run the code cell below to get credit for your work."
   ]
  },
  {
   "cell_type": "code",
   "execution_count": 5,
   "id": "8786dedc",
   "metadata": {
    "execution": {
     "iopub.execute_input": "2023-06-30T04:16:37.955041Z",
     "iopub.status.busy": "2023-06-30T04:16:37.954538Z",
     "iopub.status.idle": "2023-06-30T04:16:37.964461Z",
     "shell.execute_reply": "2023-06-30T04:16:37.963765Z"
    },
    "papermill": {
     "duration": 0.018491,
     "end_time": "2023-06-30T04:16:37.966357",
     "exception": false,
     "start_time": "2023-06-30T04:16:37.947866",
     "status": "completed"
    },
    "tags": []
   },
   "outputs": [
    {
     "data": {
      "application/javascript": [
       "parent.postMessage({\"jupyterEvent\": \"custom.exercise_interaction\", \"data\": {\"outcomeType\": 1, \"valueTowardsCompletion\": 0.3333333333333333, \"interactionType\": 1, \"questionType\": 4, \"questionId\": \"1_ExamineProvince\", \"learnToolsVersion\": \"0.3.4\", \"failureMessage\": \"\", \"exceptionClass\": \"\", \"trace\": \"\"}}, \"*\")"
      ],
      "text/plain": [
       "<IPython.core.display.Javascript object>"
      ]
     },
     "metadata": {},
     "output_type": "display_data"
    },
    {
     "data": {
      "text/markdown": [
       "<span style=\"color:#33cc33\">Correct:</span> \n",
       "\n",
       "There are inconsistencies that can be fixed by removing white spaces at the beginning and end of cells.  For instance, \"University of Central Florida\" and \" University of Central Florida\" both appear in the column."
      ],
      "text/plain": [
       "Correct: \n",
       "\n",
       "There are inconsistencies that can be fixed by removing white spaces at the beginning and end of cells.  For instance, \"University of Central Florida\" and \" University of Central Florida\" both appear in the column."
      ]
     },
     "metadata": {},
     "output_type": "display_data"
    }
   ],
   "source": [
    "# Check your answer (Run this code cell to receive credit!)\n",
    "q1.check()"
   ]
  },
  {
   "cell_type": "code",
   "execution_count": 6,
   "id": "22fc24a0",
   "metadata": {
    "execution": {
     "iopub.execute_input": "2023-06-30T04:16:37.977787Z",
     "iopub.status.busy": "2023-06-30T04:16:37.977386Z",
     "iopub.status.idle": "2023-06-30T04:16:37.985577Z",
     "shell.execute_reply": "2023-06-30T04:16:37.984386Z"
    },
    "papermill": {
     "duration": 0.016696,
     "end_time": "2023-06-30T04:16:37.988061",
     "exception": false,
     "start_time": "2023-06-30T04:16:37.971365",
     "status": "completed"
    },
    "tags": []
   },
   "outputs": [
    {
     "data": {
      "application/javascript": [
       "parent.postMessage({\"jupyterEvent\": \"custom.exercise_interaction\", \"data\": {\"interactionType\": 2, \"questionType\": 4, \"questionId\": \"1_ExamineProvince\", \"learnToolsVersion\": \"0.3.4\", \"valueTowardsCompletion\": 0.0, \"failureMessage\": \"\", \"exceptionClass\": \"\", \"trace\": \"\", \"outcomeType\": 4}}, \"*\")"
      ],
      "text/plain": [
       "<IPython.core.display.Javascript object>"
      ]
     },
     "metadata": {},
     "output_type": "display_data"
    },
    {
     "data": {
      "text/markdown": [
       "<span style=\"color:#3366cc\">Hint:</span> Use `unis = professors['Graduated from'].unique()` to take a look at the unique values in the 'Graduated from' column. You may find it useful to sort the data before printing it."
      ],
      "text/plain": [
       "Hint: Use `unis = professors['Graduated from'].unique()` to take a look at the unique values in the 'Graduated from' column. You may find it useful to sort the data before printing it."
      ]
     },
     "metadata": {},
     "output_type": "display_data"
    }
   ],
   "source": [
    "# Line below will give you a hint\n",
    "q1.hint()"
   ]
  },
  {
   "cell_type": "markdown",
   "id": "c8915148",
   "metadata": {
    "papermill": {
     "duration": 0.004722,
     "end_time": "2023-06-30T04:16:37.998333",
     "exception": false,
     "start_time": "2023-06-30T04:16:37.993611",
     "status": "completed"
    },
    "tags": []
   },
   "source": [
    "# 2) Do some text pre-processing\n",
    "\n",
    "Convert every entry in the \"Graduated from\" column in the `professors` DataFrame to remove white spaces at the beginning and end of cells."
   ]
  },
  {
   "cell_type": "code",
   "execution_count": 7,
   "id": "cab4526b",
   "metadata": {
    "execution": {
     "iopub.execute_input": "2023-06-30T04:16:38.010966Z",
     "iopub.status.busy": "2023-06-30T04:16:38.009624Z",
     "iopub.status.idle": "2023-06-30T04:16:38.026097Z",
     "shell.execute_reply": "2023-06-30T04:16:38.025052Z"
    },
    "papermill": {
     "duration": 0.025363,
     "end_time": "2023-06-30T04:16:38.028649",
     "exception": false,
     "start_time": "2023-06-30T04:16:38.003286",
     "status": "completed"
    },
    "tags": []
   },
   "outputs": [
    {
     "data": {
      "application/javascript": [
       "parent.postMessage({\"jupyterEvent\": \"custom.exercise_interaction\", \"data\": {\"outcomeType\": 1, \"valueTowardsCompletion\": 0.3333333333333333, \"interactionType\": 1, \"questionType\": 1, \"questionId\": \"2_TextProcessing\", \"learnToolsVersion\": \"0.3.4\", \"failureMessage\": \"\", \"exceptionClass\": \"\", \"trace\": \"\"}}, \"*\")"
      ],
      "text/plain": [
       "<IPython.core.display.Javascript object>"
      ]
     },
     "metadata": {},
     "output_type": "display_data"
    },
    {
     "data": {
      "text/markdown": [
       "<span style=\"color:#33cc33\">Correct</span>"
      ],
      "text/plain": [
       "Correct"
      ]
     },
     "metadata": {},
     "output_type": "display_data"
    }
   ],
   "source": [
    "# TODO: Your code here\n",
    "professors['Graduated from'] = professors['Graduated from'].str.strip()\n",
    "\n",
    "# Check your answer\n",
    "q2.check()"
   ]
  },
  {
   "cell_type": "code",
   "execution_count": 8,
   "id": "fb41a582",
   "metadata": {
    "execution": {
     "iopub.execute_input": "2023-06-30T04:16:38.042576Z",
     "iopub.status.busy": "2023-06-30T04:16:38.041949Z",
     "iopub.status.idle": "2023-06-30T04:16:38.045879Z",
     "shell.execute_reply": "2023-06-30T04:16:38.044773Z"
    },
    "papermill": {
     "duration": 0.013032,
     "end_time": "2023-06-30T04:16:38.048287",
     "exception": false,
     "start_time": "2023-06-30T04:16:38.035255",
     "status": "completed"
    },
    "tags": []
   },
   "outputs": [],
   "source": [
    "# Lines below will give you a hint or solution code\n",
    "#q2.hint()\n",
    "# q2.solution()"
   ]
  },
  {
   "cell_type": "markdown",
   "id": "85ea62a3",
   "metadata": {
    "papermill": {
     "duration": 0.006223,
     "end_time": "2023-06-30T04:16:38.060057",
     "exception": false,
     "start_time": "2023-06-30T04:16:38.053834",
     "status": "completed"
    },
    "tags": []
   },
   "source": [
    "# 3) Continue working with countries\n",
    "\n",
    "In the tutorial, we focused on cleaning up inconsistencies in the \"Country\" column.  Run the code cell below to view the list of unique values that we ended with."
   ]
  },
  {
   "cell_type": "code",
   "execution_count": 9,
   "id": "12ece589",
   "metadata": {
    "execution": {
     "iopub.execute_input": "2023-06-30T04:16:38.074576Z",
     "iopub.status.busy": "2023-06-30T04:16:38.073902Z",
     "iopub.status.idle": "2023-06-30T04:16:38.081452Z",
     "shell.execute_reply": "2023-06-30T04:16:38.080139Z"
    },
    "papermill": {
     "duration": 0.016517,
     "end_time": "2023-06-30T04:16:38.083282",
     "exception": false,
     "start_time": "2023-06-30T04:16:38.066765",
     "status": "completed"
    },
    "tags": []
   },
   "outputs": [
    {
     "data": {
      "text/plain": [
       "array(['australia', 'austria', 'canada', 'china', 'finland', 'france',\n",
       "       'germany', 'greece', 'hongkong', 'ireland', 'italy', 'japan',\n",
       "       'macau', 'malaysia', 'mauritius', 'netherland', 'new zealand',\n",
       "       'norway', 'pakistan', 'portugal', 'russian federation',\n",
       "       'saudi arabia', 'scotland', 'singapore', 'south korea', 'spain',\n",
       "       'sweden', 'thailand', 'turkey', 'uk', 'urbana', 'usa', 'usofa'],\n",
       "      dtype=object)"
      ]
     },
     "execution_count": 9,
     "metadata": {},
     "output_type": "execute_result"
    }
   ],
   "source": [
    "# get all the unique values in the 'City' column\n",
    "countries = professors['Country'].unique()\n",
    "\n",
    "# sort them alphabetically and then take a closer look\n",
    "countries.sort()\n",
    "countries"
   ]
  },
  {
   "cell_type": "markdown",
   "id": "eff4b7b4",
   "metadata": {
    "papermill": {
     "duration": 0.00509,
     "end_time": "2023-06-30T04:16:38.094031",
     "exception": false,
     "start_time": "2023-06-30T04:16:38.088941",
     "status": "completed"
    },
    "tags": []
   },
   "source": [
    "Take another look at the \"Country\" column and see if there's any more data cleaning we need to do.\n",
    "\n",
    "It looks like 'usa' and 'usofa' should be the same country.  Correct the \"Country\" column in the dataframe to replace 'usofa' with 'usa'.\n",
    "\n",
    "**Use the most recent version of the DataFrame (with the whitespaces at the beginning and end of cells removed) from question 2.**"
   ]
  },
  {
   "cell_type": "code",
   "execution_count": 10,
   "id": "5f014058",
   "metadata": {
    "execution": {
     "iopub.execute_input": "2023-06-30T04:16:38.107191Z",
     "iopub.status.busy": "2023-06-30T04:16:38.106119Z",
     "iopub.status.idle": "2023-06-30T04:16:38.119771Z",
     "shell.execute_reply": "2023-06-30T04:16:38.117980Z"
    },
    "papermill": {
     "duration": 0.023012,
     "end_time": "2023-06-30T04:16:38.122396",
     "exception": false,
     "start_time": "2023-06-30T04:16:38.099384",
     "status": "completed"
    },
    "tags": []
   },
   "outputs": [
    {
     "name": "stdout",
     "output_type": "stream",
     "text": [
      "All done!\n"
     ]
    },
    {
     "data": {
      "application/javascript": [
       "parent.postMessage({\"jupyterEvent\": \"custom.exercise_interaction\", \"data\": {\"outcomeType\": 1, \"valueTowardsCompletion\": 0.3333333333333333, \"interactionType\": 1, \"questionType\": 1, \"questionId\": \"3_WorkingWithCities\", \"learnToolsVersion\": \"0.3.4\", \"failureMessage\": \"\", \"exceptionClass\": \"\", \"trace\": \"\"}}, \"*\")"
      ],
      "text/plain": [
       "<IPython.core.display.Javascript object>"
      ]
     },
     "metadata": {},
     "output_type": "display_data"
    },
    {
     "data": {
      "text/markdown": [
       "<span style=\"color:#33cc33\">Correct</span>"
      ],
      "text/plain": [
       "Correct"
      ]
     },
     "metadata": {},
     "output_type": "display_data"
    }
   ],
   "source": [
    "# TODO: Your code here!\n",
    "\n",
    "matches = fuzzywuzzy.process.extract(\"usa\", countries, limit=10, scorer=fuzzywuzzy.fuzz.token_sort_ratio)\n",
    "replace_matches_in_column(df=professors, column='Country', string_to_match=\"usa\", min_ratio=70)\n",
    "\n",
    "# Check your answer\n",
    "q3.check()"
   ]
  },
  {
   "cell_type": "code",
   "execution_count": 11,
   "id": "4be8b583",
   "metadata": {
    "execution": {
     "iopub.execute_input": "2023-06-30T04:16:38.136008Z",
     "iopub.status.busy": "2023-06-30T04:16:38.135275Z",
     "iopub.status.idle": "2023-06-30T04:16:38.139450Z",
     "shell.execute_reply": "2023-06-30T04:16:38.138281Z"
    },
    "papermill": {
     "duration": 0.014005,
     "end_time": "2023-06-30T04:16:38.142204",
     "exception": false,
     "start_time": "2023-06-30T04:16:38.128199",
     "status": "completed"
    },
    "tags": []
   },
   "outputs": [],
   "source": [
    "# Lines below will give you a hint or solution code\n",
    "#q3.hint()\n",
    "# q3.solution()"
   ]
  },
  {
   "cell_type": "markdown",
   "id": "e9be3046",
   "metadata": {
    "papermill": {
     "duration": 0.005442,
     "end_time": "2023-06-30T04:16:38.153605",
     "exception": false,
     "start_time": "2023-06-30T04:16:38.148163",
     "status": "completed"
    },
    "tags": []
   },
   "source": [
    "# Congratulations!\n",
    "\n",
    "Congratulations for completing the **Data Cleaning** course on Kaggle Learn!\n",
    "\n",
    "To practice your new skills, you're encouraged to download and investigate some of [Kaggle's Datasets](https://www.kaggle.com/datasets)."
   ]
  },
  {
   "cell_type": "markdown",
   "id": "1649a907",
   "metadata": {
    "papermill": {
     "duration": 0.005738,
     "end_time": "2023-06-30T04:16:38.165620",
     "exception": false,
     "start_time": "2023-06-30T04:16:38.159882",
     "status": "completed"
    },
    "tags": []
   },
   "source": [
    "---\n",
    "\n",
    "\n",
    "\n",
    "\n",
    "*Have questions or comments? Visit the [course discussion forum](https://www.kaggle.com/learn/data-cleaning/discussion) to chat with other learners.*"
   ]
  }
 ],
 "metadata": {
  "kernelspec": {
   "display_name": "Python 3",
   "language": "python",
   "name": "python3"
  },
  "language_info": {
   "codemirror_mode": {
    "name": "ipython",
    "version": 3
   },
   "file_extension": ".py",
   "mimetype": "text/x-python",
   "name": "python",
   "nbconvert_exporter": "python",
   "pygments_lexer": "ipython3",
   "version": "3.10.10"
  },
  "papermill": {
   "default_parameters": {},
   "duration": 10.72277,
   "end_time": "2023-06-30T04:16:39.295875",
   "environment_variables": {},
   "exception": null,
   "input_path": "__notebook__.ipynb",
   "output_path": "__notebook__.ipynb",
   "parameters": {},
   "start_time": "2023-06-30T04:16:28.573105",
   "version": "2.4.0"
  }
 },
 "nbformat": 4,
 "nbformat_minor": 5
}
